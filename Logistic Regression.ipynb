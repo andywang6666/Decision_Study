{
 "cells": [
  {
   "cell_type": "code",
   "execution_count": 1,
   "metadata": {},
   "outputs": [],
   "source": [
    "import pandas as pd\n",
    "import numpy as np\n",
    "import matplotlib.pyplot as plt\n",
    "import os\n",
    "\n",
    "from mpl_toolkits.mplot3d import Axes3D\n",
    "from sklearn.linear_model import LinearRegression, LogisticRegression\n",
    "from scipy.special import expit"
   ]
  },
  {
   "cell_type": "code",
   "execution_count": 2,
   "metadata": {},
   "outputs": [],
   "source": [
    "# class LinearRegression(LinearRegression):\n",
    "#     \"\"\"\n",
    "#     LinearRegression class after sklearn's, but calculate t-statistics\n",
    "#     and p-values for model coefficients (betas).\n",
    "#     Additional attributes available after .fit()\n",
    "#     are `t` and `p` which are of the shape (y.shape[1], X.shape[1])\n",
    "#     which is (n_features, n_coefs)\n",
    "#     This class sets the intercept to 0 by default, since usually we include it\n",
    "#     in X.\n",
    "#     \"\"\"\n",
    "\n",
    "#     def __init__(self, *args, **kwargs):\n",
    "#         if not \"fit_intercept\" in kwargs:\n",
    "#             kwargs['fit_intercept'] = False\n",
    "#         super(LinearRegression, self)\\\n",
    "#                 .__init__(*args, **kwargs)\n",
    "\n",
    "#     def fit(self, X, y, n_jobs=1):\n",
    "#         self = super(LinearRegression, self).fit(X, y, n_jobs)\n",
    "\n",
    "#         sse = np.sum((self.predict(X) - y) ** 2, axis=0) / float(X.shape[0] - X.shape[1])\n",
    "#         se = np.array([\n",
    "#             np.sqrt(np.diagonal(sse[i] * np.linalg.inv(np.dot(X.T, X)))) for i in range(sse.shape[0])])\n",
    "\n",
    "#         self.t = self.coef_ / se\n",
    "#         self.p = 2 * (1 - stats.t.cdf(np.abs(self.t), y.shape[0] - X.shape[1]))\n",
    "#         return self"
   ]
  },
  {
   "cell_type": "code",
   "execution_count": 9,
   "metadata": {},
   "outputs": [
    {
     "name": "stdout",
     "output_type": "stream",
     "text": [
      "SC00001_11-Apr-2019.txt\n",
      "SC00002_26-Apr-2019.txt\n",
      "SC00003_18-Jun-2019.txt\n",
      "SC00004_13-May-2019.txt\n",
      "SC00006_05-Aug-2019.txt\n",
      "SC00007_28-Jun-2019.txt\n",
      "SC00008_19-Jun-2019.txt\n",
      "SC00009_24-Jun-2019.txt\n",
      "SC00010_24-Jun-2019.txt\n",
      "SC00012_19-Jul-2019.txt\n",
      "SC00013_19-Jul-2019.txt\n",
      "SC00014_02-Aug-2019.txt\n",
      "SC00015_29-Jul-2019.txt\n",
      "SC00016_30-Jul-2019.txt\n",
      "SC00017_24-Jul-2019.txt\n",
      "SC00020_23-Jul-2019.txt\n",
      "SC00021_24-Jul-2019.txt\n",
      "SC00022_27-Aug-2019.txt\n",
      "SC00023_06-Sep-2019.txt\n",
      "SC00024_27-Aug-2019.txt\n",
      "SC00104_27-Sep-2018.txt\n",
      "SC00106_27-Sep-2018.txt\n",
      "SC00108_12-Dec-2018.txt\n",
      "SC00110_12-Dec-2018.txt\n",
      "SC00111_12-Dec-2018.txt\n",
      "SC00112_14-Sep-2019.txt\n",
      "SC00113_14-Sep-2019.txt\n",
      "SC00114_29-Mar-2019.txt\n",
      "SC00115_01-Apr-2019.txt\n",
      "SC00120_14-May-2019.txt\n",
      "SC00121_14-May-2019.txt\n",
      "['00001', '00002', '00003', '00004', '00006', '00007', '00008', '00009', '00010', '00012', '00013', '00014', '00015', '00016', '00017', '00020', '00021', '00022', '00023', '00024', '00104', '00106', '00108', '00110', '00111', '00112', '00113', '00114', '00115', '00120', '00121']\n"
     ]
    }
   ],
   "source": [
    "file_dir = os.listdir('Data/')\n",
    "file_dir.sort()\n",
    "\n",
    "participant_num = []\n",
    "files = []\n",
    "for file_name in file_dir:\n",
    "    usecols = ['trial', 'choice1', 'state', 'age', 'won']\n",
    "    file = pd.read_csv('Data/' + file_name, sep='\\t', index_col=0, usecols=usecols, skiprows=lambda x: x in range(3, 11)) # Start analysis at row 10\n",
    "    file = file[file['choice1'] != 0] # Exclude trails that choice1 was missed\n",
    "    file = file.dropna()\n",
    "    files.append(file)\n",
    "    participant_num.append(file_name[2:7])\n",
    "    print(file_name)\n",
    "\n",
    "print(participant_num)\n",
    "data = pd.concat(files)"
   ]
  },
  {
   "cell_type": "code",
   "execution_count": 4,
   "metadata": {},
   "outputs": [],
   "source": [
    "# 108\tFemale\t66\n",
    "# 104\tFemale\t86\n",
    "# 106\tFemale\t73\n",
    "# 110\tFemale\t69\n",
    "# 111\tFemale\t75\n",
    "# 112\tFemale\t72\n",
    "# 113\tMale\t75\n",
    "# 114\tFemale\t71\n",
    "# 115\tFemale\t61\n",
    "# 120\tMale\t69\n",
    "# 121\tFemale\t70\n",
    "# 2\tFemale\t75\n",
    "# 1\tMale\t74\n",
    "# 3\tFemale\t67\n",
    "# 4\tFemale\t70\n",
    "# 6\tMale\t80\n",
    "# 7\tFemale\t70\n",
    "# 9\tFemale\t67\n",
    "# 10\tFemale\t74\n",
    "# 12\tFemale\t72\n",
    "# 13\tMale\t76\n",
    "# 14\tFemale\t71\n",
    "# 15\tMale\t70\n",
    "# 16\tMale\t69\n",
    "# 17\tMale\t68\n",
    "# 20\tMale\t73\n",
    "# 21\tMale\t73\n",
    "# 22\tFemale\t70\n",
    "# 23\tMale\t66\n",
    "# 24\tMale\t67\n"
   ]
  },
  {
   "cell_type": "code",
   "execution_count": 5,
   "metadata": {},
   "outputs": [
    {
     "name": "stderr",
     "output_type": "stream",
     "text": [
      "/anaconda3/lib/python3.7/site-packages/sklearn/linear_model/logistic.py:432: FutureWarning: Default solver will be changed to 'lbfgs' in 0.22. Specify a solver to silence this warning.\n",
      "  FutureWarning)\n",
      "/anaconda3/lib/python3.7/site-packages/sklearn/linear_model/logistic.py:432: FutureWarning: Default solver will be changed to 'lbfgs' in 0.22. Specify a solver to silence this warning.\n",
      "  FutureWarning)\n",
      "/anaconda3/lib/python3.7/site-packages/sklearn/linear_model/logistic.py:432: FutureWarning: Default solver will be changed to 'lbfgs' in 0.22. Specify a solver to silence this warning.\n",
      "  FutureWarning)\n",
      "/anaconda3/lib/python3.7/site-packages/sklearn/linear_model/logistic.py:432: FutureWarning: Default solver will be changed to 'lbfgs' in 0.22. Specify a solver to silence this warning.\n",
      "  FutureWarning)\n",
      "/anaconda3/lib/python3.7/site-packages/sklearn/linear_model/logistic.py:432: FutureWarning: Default solver will be changed to 'lbfgs' in 0.22. Specify a solver to silence this warning.\n",
      "  FutureWarning)\n",
      "/anaconda3/lib/python3.7/site-packages/sklearn/linear_model/logistic.py:432: FutureWarning: Default solver will be changed to 'lbfgs' in 0.22. Specify a solver to silence this warning.\n",
      "  FutureWarning)\n",
      "/anaconda3/lib/python3.7/site-packages/sklearn/linear_model/logistic.py:432: FutureWarning: Default solver will be changed to 'lbfgs' in 0.22. Specify a solver to silence this warning.\n",
      "  FutureWarning)\n",
      "/anaconda3/lib/python3.7/site-packages/sklearn/linear_model/logistic.py:432: FutureWarning: Default solver will be changed to 'lbfgs' in 0.22. Specify a solver to silence this warning.\n",
      "  FutureWarning)\n",
      "/anaconda3/lib/python3.7/site-packages/sklearn/linear_model/logistic.py:432: FutureWarning: Default solver will be changed to 'lbfgs' in 0.22. Specify a solver to silence this warning.\n",
      "  FutureWarning)\n",
      "/anaconda3/lib/python3.7/site-packages/sklearn/linear_model/logistic.py:432: FutureWarning: Default solver will be changed to 'lbfgs' in 0.22. Specify a solver to silence this warning.\n",
      "  FutureWarning)\n",
      "/anaconda3/lib/python3.7/site-packages/sklearn/linear_model/logistic.py:432: FutureWarning: Default solver will be changed to 'lbfgs' in 0.22. Specify a solver to silence this warning.\n",
      "  FutureWarning)\n",
      "/anaconda3/lib/python3.7/site-packages/sklearn/linear_model/logistic.py:432: FutureWarning: Default solver will be changed to 'lbfgs' in 0.22. Specify a solver to silence this warning.\n",
      "  FutureWarning)\n",
      "/anaconda3/lib/python3.7/site-packages/sklearn/linear_model/logistic.py:432: FutureWarning: Default solver will be changed to 'lbfgs' in 0.22. Specify a solver to silence this warning.\n",
      "  FutureWarning)\n",
      "/anaconda3/lib/python3.7/site-packages/sklearn/linear_model/logistic.py:432: FutureWarning: Default solver will be changed to 'lbfgs' in 0.22. Specify a solver to silence this warning.\n",
      "  FutureWarning)\n",
      "/anaconda3/lib/python3.7/site-packages/sklearn/linear_model/logistic.py:432: FutureWarning: Default solver will be changed to 'lbfgs' in 0.22. Specify a solver to silence this warning.\n",
      "  FutureWarning)\n",
      "/anaconda3/lib/python3.7/site-packages/sklearn/linear_model/logistic.py:432: FutureWarning: Default solver will be changed to 'lbfgs' in 0.22. Specify a solver to silence this warning.\n",
      "  FutureWarning)\n",
      "/anaconda3/lib/python3.7/site-packages/sklearn/linear_model/logistic.py:432: FutureWarning: Default solver will be changed to 'lbfgs' in 0.22. Specify a solver to silence this warning.\n",
      "  FutureWarning)\n",
      "/anaconda3/lib/python3.7/site-packages/sklearn/linear_model/logistic.py:432: FutureWarning: Default solver will be changed to 'lbfgs' in 0.22. Specify a solver to silence this warning.\n",
      "  FutureWarning)\n",
      "/anaconda3/lib/python3.7/site-packages/sklearn/linear_model/logistic.py:432: FutureWarning: Default solver will be changed to 'lbfgs' in 0.22. Specify a solver to silence this warning.\n",
      "  FutureWarning)\n",
      "/anaconda3/lib/python3.7/site-packages/sklearn/linear_model/logistic.py:432: FutureWarning: Default solver will be changed to 'lbfgs' in 0.22. Specify a solver to silence this warning.\n",
      "  FutureWarning)\n",
      "/anaconda3/lib/python3.7/site-packages/sklearn/linear_model/logistic.py:432: FutureWarning: Default solver will be changed to 'lbfgs' in 0.22. Specify a solver to silence this warning.\n",
      "  FutureWarning)\n",
      "/anaconda3/lib/python3.7/site-packages/sklearn/linear_model/logistic.py:432: FutureWarning: Default solver will be changed to 'lbfgs' in 0.22. Specify a solver to silence this warning.\n",
      "  FutureWarning)\n",
      "/anaconda3/lib/python3.7/site-packages/sklearn/linear_model/logistic.py:432: FutureWarning: Default solver will be changed to 'lbfgs' in 0.22. Specify a solver to silence this warning.\n",
      "  FutureWarning)\n",
      "/anaconda3/lib/python3.7/site-packages/sklearn/linear_model/logistic.py:432: FutureWarning: Default solver will be changed to 'lbfgs' in 0.22. Specify a solver to silence this warning.\n",
      "  FutureWarning)\n",
      "/anaconda3/lib/python3.7/site-packages/sklearn/linear_model/logistic.py:432: FutureWarning: Default solver will be changed to 'lbfgs' in 0.22. Specify a solver to silence this warning.\n",
      "  FutureWarning)\n",
      "/anaconda3/lib/python3.7/site-packages/sklearn/linear_model/logistic.py:432: FutureWarning: Default solver will be changed to 'lbfgs' in 0.22. Specify a solver to silence this warning.\n",
      "  FutureWarning)\n",
      "/anaconda3/lib/python3.7/site-packages/sklearn/linear_model/logistic.py:432: FutureWarning: Default solver will be changed to 'lbfgs' in 0.22. Specify a solver to silence this warning.\n",
      "  FutureWarning)\n",
      "/anaconda3/lib/python3.7/site-packages/sklearn/linear_model/logistic.py:432: FutureWarning: Default solver will be changed to 'lbfgs' in 0.22. Specify a solver to silence this warning.\n",
      "  FutureWarning)\n",
      "/anaconda3/lib/python3.7/site-packages/sklearn/linear_model/logistic.py:432: FutureWarning: Default solver will be changed to 'lbfgs' in 0.22. Specify a solver to silence this warning.\n",
      "  FutureWarning)\n",
      "/anaconda3/lib/python3.7/site-packages/sklearn/linear_model/logistic.py:432: FutureWarning: Default solver will be changed to 'lbfgs' in 0.22. Specify a solver to silence this warning.\n",
      "  FutureWarning)\n",
      "/anaconda3/lib/python3.7/site-packages/sklearn/linear_model/logistic.py:432: FutureWarning: Default solver will be changed to 'lbfgs' in 0.22. Specify a solver to silence this warning.\n",
      "  FutureWarning)\n"
     ]
    },
    {
     "data": {
      "image/png": "[encoded data removed]",
      "text/plain": [
       "<Figure size 432x288 with 1 Axes>"
      ]
     },
     "metadata": {
      "needs_background": "light"
     },
     "output_type": "display_data"
    }
   ],
   "source": [
    "age = np.array([74, 75, 67, 70, 80, 70, 67, 73, 74, 72, 76, 71, 70, 69, 68, 73, 73, 70, 66, 67, 86, 73, 66, 69, 75, 72, 75, 71, 61, 69, 70])\n",
    "betas = []\n",
    "\n",
    "for file in files:\n",
    "    choice1 = file['choice1'] == 1\n",
    "    choice2 = ~choice1\n",
    "    state2 = file['state'] == 2\n",
    "    state3 = ~state2\n",
    "\n",
    "    state = (choice1 & state2) | (choice2 & state3)\n",
    "    \n",
    "    x1 = state[:-1].values[:, None]\n",
    "    x2 = file['won'][1:].values[:, None]\n",
    "    x3 = file['age'][1:].values.reshape(-1, 1)\n",
    "    x4 = x1 * x2\n",
    "    x5 = x1 * x3\n",
    "    x6 = x2 * x3\n",
    "    x7 = x1 * x2 * x3\n",
    "    y = state[1:].values\n",
    "\n",
    "    x = np.concatenate([x1, x2, x4], axis=1)\n",
    "\n",
    "    lr = LogisticRegression()\n",
    "    lr.fit(x, y)\n",
    "    \n",
    "    betas.append(lr.coef_[0, 2])\n",
    "\n",
    "lr2 = LinearRegression()\n",
    "# betas = np.square(np.array(betas))\n",
    "lr2.fit(age[:, None], betas)\n",
    "\n",
    "x_test = np.linspace(60, 90, 300)[:, None]\n",
    "\n",
    "loss = (x_test * lr2.coef_ + lr2.intercept_).ravel()\n",
    "    \n",
    "plt.scatter(age, betas)\n",
    "plt.plot(x_test, loss)\n",
    "plt.xlabel('Age')\n",
    "plt.ylabel('Beta PRxTT')\n",
    "plt.show()"
   ]
  },
  {
   "cell_type": "code",
   "execution_count": 17,
   "metadata": {},
   "outputs": [],
   "source": [
    "values = [age, betas]\n",
    "betas_file = pd.DataFrame(betas, participant_num, columns=['Age', 'Betas'])\n",
    "betas_file.to_excel('Participant_Betas.xlsx')"
   ]
  },
  {
   "cell_type": "code",
   "execution_count": 4,
   "metadata": {},
   "outputs": [],
   "source": [
    "choice1 = data['choice1'] == 1\n",
    "choice2 = ~choice1\n",
    "state2 = data['state'] == 2\n",
    "state3 = ~state2\n",
    "\n",
    "state = (choice1 & state2) | (choice2 & state3)"
   ]
  },
  {
   "cell_type": "code",
   "execution_count": 40,
   "metadata": {},
   "outputs": [
    {
     "name": "stderr",
     "output_type": "stream",
     "text": [
      "/anaconda3/lib/python3.7/site-packages/sklearn/linear_model/logistic.py:432: FutureWarning: Default solver will be changed to 'lbfgs' in 0.22. Specify a solver to silence this warning.\n",
      "  FutureWarning)\n"
     ]
    },
    {
     "data": {
      "image/png": "[encoded data removed]",
      "text/plain": [
       "<Figure size 432x288 with 1 Axes>"
      ]
     },
     "metadata": {
      "needs_background": "light"
     },
     "output_type": "display_data"
    }
   ],
   "source": [
    "x1 = state[:-1].values[:, None]\n",
    "x2 = data['won'][1:].values[:, None]\n",
    "x3 = data['age'][1:].values.reshape(-1, 1)\n",
    "x4 = x1 * x2\n",
    "x5 = x1 * x3\n",
    "x6 = x2 * x3\n",
    "x7 = x1 * x2 * x3\n",
    "y = state[1:].values\n",
    "\n",
    "x = np.concatenate([x1, x2, x4], axis=1)\n",
    "\n",
    "lr = LogisticRegression()\n",
    "lr.fit(x, y)\n",
    "\n",
    "x_test = np.linspace(40, 90, 300)[:, None]\n",
    "\n",
    "loss = expit((x_test * lr.coef_[0, None])[:, 0] + lr.intercept_).ravel()\n",
    "\n",
    "plt.plot(x_test, loss)\n",
    "plt.scatter(x3, x4)\n",
    "plt.xlabel('Age')\n",
    "plt.ylabel('Transition')\n",
    "plt.show()"
   ]
  },
  {
   "cell_type": "code",
   "execution_count": 38,
   "metadata": {},
   "outputs": [
    {
     "data": {
      "text/plain": [
       "(array([0.85920471]), array([[ 0.00745897, -0.14430516,  0.12184811]]))"
      ]
     },
     "execution_count": 38,
     "metadata": {},
     "output_type": "execute_result"
    }
   ],
   "source": [
    "lr.intercept_, lr.coef_"
   ]
  },
  {
   "cell_type": "code",
   "execution_count": null,
   "metadata": {},
   "outputs": [],
   "source": []
  }
 ],
 "metadata": {
  "kernelspec": {
   "display_name": "Python 3",
   "language": "python",
   "name": "python3"
  },
  "language_info": {
   "codemirror_mode": {
    "name": "ipython",
    "version": 3
   },
   "file_extension": ".py",
   "mimetype": "text/x-python",
   "name": "python",
   "nbconvert_exporter": "python",
   "pygments_lexer": "ipython3",
   "version": "3.7.1"
  }
 },
 "nbformat": 4,
 "nbformat_minor": 2
}
