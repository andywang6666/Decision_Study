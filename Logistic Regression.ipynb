{
 "cells": [
  {
   "cell_type": "code",
   "execution_count": 1,
   "metadata": {
    "collapsed": true
   },
   "outputs": [],
   "source": [
    "import pandas as pd\n",
    "import numpy as np\n",
    "import matplotlib.pyplot as plt\n",
    "import os\n",
    "\n",
    "from sklearn.linear_model import LinearRegression, LogisticRegression\n",
    "from sklearn.feature_selection import chi2\n",
    "from scipy.special import expit\n",
    "\n",
    "import warnings\n",
    "warnings.filterwarnings(\"ignore\", category=FutureWarning)"
   ]
  },
  {
   "cell_type": "code",
   "execution_count": 2,
   "metadata": {},
   "outputs": [
    {
     "name": "stdout",
     "output_type": "stream",
     "text": [
      "30\n",
      "SC00001_11-Apr-2019.txt\n",
      "SC00002_26-Apr-2019.txt\n",
      "SC00003_18-Jun-2019.txt\n",
      "SC00004_13-May-2019.txt\n",
      "SC00006_05-Aug-2019.txt\n",
      "SC00007_28-Jun-2019.txt\n",
      "SC00008_19-Jun-2019.txt\n",
      "SC00009_24-Jun-2019.txt\n",
      "SC00010_24-Jun-2019.txt\n",
      "SC00012_19-Jul-2019.txt\n",
      "SC00013_19-Jul-2019.txt\n",
      "SC00014_02-Aug-2019.txt\n",
      "SC00015_29-Jul-2019.txt\n",
      "SC00016_30-Jul-2019.txt\n",
      "SC00017_24-Jul-2019.txt\n",
      "SC00020_23-Jul-2019.txt\n",
      "SC00021_24-Jul-2019.txt\n",
      "SC00022_27-Aug-2019.txt\n",
      "SC00023_06-Sep-2019.txt\n",
      "SC00024_27-Aug-2019.txt\n",
      "SC00104_27-Sep-2018.txt\n",
      "SC00108_12-Dec-2018.txt\n",
      "SC00110_12-Dec-2018.txt\n",
      "SC00111_12-Dec-2018.txt\n",
      "SC00112_14-Sep-2019.txt\n",
      "SC00113_14-Sep-2019.txt\n",
      "SC00114_29-Mar-2019.txt\n",
      "SC00115_01-Apr-2019.txt\n",
      "SC00120_14-May-2019.txt\n",
      "SC00121_14-May-2019.txt\n",
      "['00001', '00002', '00003', '00004', '00006', '00007', '00008', '00009', '00010', '00012', '00013', '00014', '00015', '00016', '00017', '00020', '00021', '00022', '00023', '00024', '00104', '00108', '00110', '00111', '00112', '00113', '00114', '00115', '00120', '00121']\n"
     ]
    }
   ],
   "source": [
    "file_dir = os.listdir('Data/')\n",
    "file_dir.sort()\n",
    "\n",
    "# Stores strings of participants' IDs and pandas Dataframe objects\n",
    "files = []\n",
    "file_names = []\n",
    "participant_id = []\n",
    "\n",
    "for file_name in file_dir:\n",
    "    usecols = ['trial', 'choice1', 'state', 'age', 'won']\n",
    "    file = pd.read_csv('Data/' + file_name, sep='\\t', index_col=0, usecols=usecols, skiprows=lambda x: x in range(3, 11)) # Start analysis at row 10\n",
    "    \n",
    "    file = file[file['choice1'] != 0] # Exclude trails that choice1 was missed\n",
    "    file = file.dropna()\n",
    "    \n",
    "    files.append(file)\n",
    "    file_names.append(file_name)\n",
    "    participant_id.append(file_name[2:7])\n",
    "    \n",
    "# Given age of participants\n",
    "age = np.array([74, 75, 67, 70, 80, 70, 67, 73, 74, 72, 76, 71, 70, 69, 68, 73, 73, 70, 66, 67, 86, 73, 66, 69, 75, 72, 75, 71, 61, 69, 70])\n",
    "\n",
    "# Drop 21st participant. Bad data: only picked first spaceship\n",
    "files.pop(21)\n",
    "file_names.pop(21)\n",
    "participant_id.pop(21)\n",
    "age = np.delete(age, 21)\n",
    "\n",
    "print(len(files))\n",
    "for name in file_names:\n",
    "    print(name)\n",
    "print(participant_id)"
   ]
  },
  {
   "cell_type": "code",
   "execution_count": 3,
   "metadata": {
    "collapsed": true
   },
   "outputs": [],
   "source": [
    "# Participants' gender and age\n",
    "\n",
    "# 108\tFemale\t66\n",
    "# 104\tFemale\t86\n",
    "# 106\tFemale\t73\n",
    "# 110\tFemale\t69\n",
    "# 111\tFemale\t75\n",
    "# 112\tFemale\t72\n",
    "# 113\tMale\t75\n",
    "# 114\tFemale\t71\n",
    "# 115\tFemale\t61\n",
    "# 120\tMale\t69\n",
    "# 121\tFemale\t70\n",
    "# 2\tFemale\t75\n",
    "# 1\tMale\t74\n",
    "# 3\tFemale\t67\n",
    "# 4\tFemale\t70\n",
    "# 6\tMale\t80\n",
    "# 7\tFemale\t70\n",
    "# 9\tFemale\t67\n",
    "# 10\tFemale\t74\n",
    "# 12\tFemale\t72\n",
    "# 13\tMale\t76\n",
    "# 14\tFemale\t71\n",
    "# 15\tMale\t70\n",
    "# 16\tMale\t69\n",
    "# 17\tMale\t68\n",
    "# 20\tMale\t73\n",
    "# 21\tMale\t73\n",
    "# 22\tFemale\t70\n",
    "# 23\tMale\t66\n",
    "# 24\tMale\t67"
   ]
  },
  {
   "cell_type": "code",
   "execution_count": 5,
   "metadata": {},
   "outputs": [
    {
     "name": "stdout",
     "output_type": "stream",
     "text": [
      "Intercept: 1.2523, Coef: -0.0098\n",
      "17\n"
     ]
    },
    {
     "data": {
      "image/png": "[encoded data removed]",
      "text/plain": [
       "<matplotlib.figure.Figure at 0x1143a7c88>"
      ]
     },
     "metadata": {
      "needs_background": "light"
     },
     "output_type": "display_data"
    },
    {
     "name": "stdout",
     "output_type": "stream",
     "text": [
      "Intercept: 1.3611, Coef: -0.0119\n",
      "14\n"
     ]
    },
    {
     "data": {
      "image/png": "[encoded data removed]",
      "text/plain": [
       "<matplotlib.figure.Figure at 0x10dd61940>"
      ]
     },
     "metadata": {
      "needs_background": "light"
     },
     "output_type": "display_data"
    },
    {
     "name": "stdout",
     "output_type": "stream",
     "text": [
      "Intercept: 0.3832, Coef: 0.0028\n",
      "10\n"
     ]
    },
    {
     "data": {
      "image/png": "[encoded data removed]",
      "text/plain": [
       "<matplotlib.figure.Figure at 0x10dd615f8>"
      ]
     },
     "metadata": {
      "needs_background": "light"
     },
     "output_type": "display_data"
    }
   ],
   "source": [
    "def get_betas(files, start=None, end=None):\n",
    "    betas_mb = []\n",
    "    betas_mf = []\n",
    "    p_vals = []\n",
    "\n",
    "    for idx, file in enumerate(files):\n",
    "        file = file[start:end] # Section of files to analyze\n",
    "\n",
    "        choice1 = file['choice1'] == 1\n",
    "        choice2 = ~choice1\n",
    "        state2 = file['state'] == 2\n",
    "        state3 = ~state2\n",
    "\n",
    "        state = (choice1 & state2) | (choice2 & state3)\n",
    "\n",
    "        x1 = state[:-1].values[:, None] # Transition type of previous trial\n",
    "        x2 = file['won'][:-1].values[:, None] # Reward of previous trial\n",
    "        x3 = x1 * x2 # Interaction term between previous transition type and reward\n",
    "        y = file['choice1'][1:].values == file['choice1'][:-1].values # Stay dependent variable\n",
    "\n",
    "        x = np.concatenate([x1, x2, x3], axis=1)\n",
    "\n",
    "        lr = LogisticRegression()\n",
    "        lr.fit(x, y)\n",
    "        \n",
    "        _, pv = chi2(x, y)\n",
    "        \n",
    "        betas_mb.append(lr.coef_[0, 2]) # Store coefficient of interaction term\n",
    "        betas_mf.append(lr.coef_[0, 1]) # Store coefficient of reward term\n",
    "        p_vals.append(pv) # Store p-values for all terms for participant\n",
    "        \n",
    "    return betas_mb, betas_mf,  p_vals\n",
    "\n",
    "betas_mb_all, betas_mf_all, pv_all = get_betas(files)\n",
    "betas_mb_half1, betas_mf_half1, pv_half1 = get_betas(files, end=100)\n",
    "betas_mb_half2, betas_mf_half2, pv_half2 = get_betas(files, start=100)\n",
    "\n",
    "betas = [betas_mb_all, betas_mb_half1, betas_mb_half2]\n",
    "p_vals = [pv_all, pv_half1, pv_half2]\n",
    "titles = ['All', 'First Half', 'Second Half']\n",
    "\n",
    "for i in range(len(betas)):\n",
    "    lr2 = LinearRegression()\n",
    "    lr2.fit(age[:, None], betas[i])\n",
    "\n",
    "    print('Intercept: %.4f, Coef: %.4f' % (lr2.intercept_, lr2.coef_[0]))\n",
    "    \n",
    "    pv = np.array(p_vals[i])\n",
    "    print(sum(pv[:, 2] <= 0.05)) # Print number of participants who's p-value of interaction term are significant\n",
    "\n",
    "    x_test = np.linspace(60, 90, 300)[:, None]\n",
    "\n",
    "    loss = (x_test * lr2.coef_ + lr2.intercept_).ravel()\n",
    "\n",
    "    fig, ax = plt.subplots()\n",
    "\n",
    "    ax.scatter(age, betas[i])\n",
    "    ax.plot(x_test, loss)\n",
    "    ax.set_xlabel('Age')\n",
    "    ax.set_ylabel('Beta PRxTT')\n",
    "    ax.set_title(titles[i])\n",
    "    \n",
    "    plt.show()"
   ]
  },
  {
   "cell_type": "code",
   "execution_count": 6,
   "metadata": {},
   "outputs": [
    {
     "name": "stderr",
     "output_type": "stream",
     "text": [
      "/Users/Nandhini/anaconda/lib/python3.6/site-packages/pandas/compat/_optional.py:106: UserWarning: Pandas requires version '0.9.8' or newer of 'xlsxwriter' (version '0.9.6' currently installed).\n",
      "  warnings.warn(msg, UserWarning)\n"
     ]
    }
   ],
   "source": [
    "values = [[a, b, c] for a, b, c in zip(age, betas_mb_all, betas_mf_all)]\n",
    "betas_file = pd.DataFrame(values, index=participant_id, columns=['Age', 'MB_Betas', 'MF_Betas'])\n",
    "betas_file.to_excel('Participant_Betas.xlsx')"
   ]
  },
  {
   "cell_type": "code",
   "execution_count": null,
   "metadata": {
    "collapsed": true
   },
   "outputs": [],
   "source": []
  }
 ],
 "metadata": {
  "kernelspec": {
   "display_name": "Python 3",
   "language": "python",
   "name": "python3"
  },
  "language_info": {
   "codemirror_mode": {
    "name": "ipython",
    "version": 3
   },
   "file_extension": ".py",
   "mimetype": "text/x-python",
   "name": "python",
   "nbconvert_exporter": "python",
   "pygments_lexer": "ipython3",
   "version": "3.6.9"
  }
 },
 "nbformat": 4,
 "nbformat_minor": 2
}
