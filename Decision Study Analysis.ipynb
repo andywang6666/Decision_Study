{
 "cells": [
  {
   "cell_type": "code",
   "execution_count": 2,
   "metadata": {},
   "outputs": [],
   "source": [
    "import pandas as pd\n",
    "import numpy as np\n",
    "import matplotlib.pyplot as plt\n",
    "import os"
   ]
  },
  {
   "cell_type": "code",
   "execution_count": 3,
   "metadata": {},
   "outputs": [],
   "source": [
    "file_name = 'Data/SC00001_11-Apr-2019.txt'"
   ]
  },
  {
   "cell_type": "code",
   "execution_count": 4,
   "metadata": {},
   "outputs": [
    {
     "data": {
      "text/html": [
       "<div>\n",
       "<style scoped>\n",
       "    .dataframe tbody tr th:only-of-type {\n",
       "        vertical-align: middle;\n",
       "    }\n",
       "\n",
       "    .dataframe tbody tr th {\n",
       "        vertical-align: top;\n",
       "    }\n",
       "\n",
       "    .dataframe thead th {\n",
       "        text-align: right;\n",
       "    }\n",
       "</style>\n",
       "<table border=\"1\" class=\"dataframe\">\n",
       "  <thead>\n",
       "    <tr style=\"text-align: right;\">\n",
       "      <th></th>\n",
       "      <th>choice1</th>\n",
       "      <th>state</th>\n",
       "      <th>choice2</th>\n",
       "      <th>won</th>\n",
       "    </tr>\n",
       "    <tr>\n",
       "      <th>trial</th>\n",
       "      <th></th>\n",
       "      <th></th>\n",
       "      <th></th>\n",
       "      <th></th>\n",
       "    </tr>\n",
       "  </thead>\n",
       "  <tbody>\n",
       "    <tr>\n",
       "      <td>9</td>\n",
       "      <td>1</td>\n",
       "      <td>2.0</td>\n",
       "      <td>2.0</td>\n",
       "      <td>0.0</td>\n",
       "    </tr>\n",
       "    <tr>\n",
       "      <td>10</td>\n",
       "      <td>1</td>\n",
       "      <td>2.0</td>\n",
       "      <td>1.0</td>\n",
       "      <td>1.0</td>\n",
       "    </tr>\n",
       "    <tr>\n",
       "      <td>11</td>\n",
       "      <td>1</td>\n",
       "      <td>3.0</td>\n",
       "      <td>1.0</td>\n",
       "      <td>0.0</td>\n",
       "    </tr>\n",
       "    <tr>\n",
       "      <td>12</td>\n",
       "      <td>1</td>\n",
       "      <td>2.0</td>\n",
       "      <td>1.0</td>\n",
       "      <td>0.0</td>\n",
       "    </tr>\n",
       "    <tr>\n",
       "      <td>13</td>\n",
       "      <td>2</td>\n",
       "      <td>3.0</td>\n",
       "      <td>2.0</td>\n",
       "      <td>0.0</td>\n",
       "    </tr>\n",
       "  </tbody>\n",
       "</table>\n",
       "</div>"
      ],
      "text/plain": [
       "       choice1  state  choice2  won\n",
       "trial                              \n",
       "9            1    2.0      2.0  0.0\n",
       "10           1    2.0      1.0  1.0\n",
       "11           1    3.0      1.0  0.0\n",
       "12           1    2.0      1.0  0.0\n",
       "13           2    3.0      2.0  0.0"
      ]
     },
     "execution_count": 4,
     "metadata": {},
     "output_type": "execute_result"
    }
   ],
   "source": [
    "usecols = ['trial', 'choice1', 'state', 'choice2', 'won']\n",
    "file = pd.read_csv(file_name, sep='\\t', index_col=0, usecols=usecols, skiprows=lambda x: x in range(3, 11)) # Start analysis at row 10\n",
    "file = file[file['choice1'] != 0] # Exclude trails that choice1 was missed\n",
    "file = file[file['choice2'] != 0] # Exclude trails that choice2 was missed\n",
    "file.head()"
   ]
  },
  {
   "cell_type": "code",
   "execution_count": 5,
   "metadata": {},
   "outputs": [
    {
     "data": {
      "image/png": "[encoded data removed]",
      "text/plain": [
       "<Figure size 720x432 with 1 Axes>"
      ]
     },
     "metadata": {
      "needs_background": "light"
     },
     "output_type": "display_data"
    }
   ],
   "source": [
    "choice1 = file['choice1'] == 1\n",
    "choice2 = ~choice1\n",
    "state2 = file['state'] == 2\n",
    "state3 = ~state2\n",
    "\n",
    "common = file[(choice1 & state2) | (choice2 & state3)]\n",
    "rare = file[(choice1 & state3) | (choice2 & state2)]\n",
    "\n",
    "common_alien1 = common['choice2'] == 1\n",
    "common_alien2 = ~common_alien1\n",
    "common_reward = common['won'] == 1\n",
    "common_noreward = ~common_reward\n",
    "\n",
    "rare_alien1 = rare['choice2'] == 1\n",
    "rare_alien2 = ~rare_alien1\n",
    "rare_reward = rare['won'] == 1\n",
    "rare_noreward = ~rare_reward\n",
    "\n",
    "common_alien1_rewards = [len(common[common_alien1 & common_reward]) / len(common),\n",
    "                         len(common[common_alien1 & common_noreward]) / len(common)]\n",
    "common_alien2_rewards = [len(common[common_alien2 & common_reward]) / len(common),\n",
    "                         len(common[common_alien2 & common_noreward]) / len(common)]\n",
    "rare_alien1_rewards = [len(rare[rare_alien1 & rare_reward]) / len(rare),\n",
    "                       len(rare[rare_alien1 & rare_noreward]) / len(rare)]\n",
    "rare_alien2_rewards = [len(rare[rare_alien2 & rare_reward]) / len(rare),\n",
    "                       len(rare[rare_alien2 & rare_noreward]) / len(rare)]\n",
    "\n",
    "labels = ['Reward', 'No Reward']\n",
    "x = np.arange(len(labels))\n",
    "\n",
    "width = 0.35\n",
    "\n",
    "fig, ax = plt.subplots(figsize=(10,6))\n",
    "\n",
    "# ax.bar(x - width / 2, common_alien1_rewards, width, label='Common, Alien 1')\n",
    "# ax.bar(x - width / 2, common_alien2_rewards, width, bottom=common_alien1_rewards, label='Common, Alien 2')\n",
    "# ax.bar(x + width / 2, rare_alien1_rewards, width, label='Rare, Alien 1')\n",
    "# ax.bar(x + width / 2, rare_alien2_rewards, width, bottom=rare_alien1_rewards, label='Rare, Alien 2')\n",
    "\n",
    "common_rewards = [a1 + a2 for a1, a2 in zip(common_alien1_rewards, common_alien2_rewards)]\n",
    "rare_rewards = [a1 + a2 for a1, a2 in zip(rare_alien1_rewards, rare_alien2_rewards)]\n",
    "\n",
    "ax.bar(x - width / 2, common_rewards, width, label='Common Transition')\n",
    "ax.bar(x + width / 2, rare_rewards, width, label='Rare Transition')\n",
    "\n",
    "ax.set_xticks(x)\n",
    "ax.set_xticklabels(labels)\n",
    "ax.set_ylim([0, 0.7])\n",
    "ax.legend()\n",
    "plt.show()"
   ]
  },
  {
   "cell_type": "code",
   "execution_count": 6,
   "metadata": {},
   "outputs": [],
   "source": [
    "def get_analysis(file):\n",
    "    com_same_alien = np.array([0, 0])\n",
    "    com_same_planet = np.array([0, 0])\n",
    "    rare_same_alien = np.array([0, 0])\n",
    "    rare_same_planet = np.array([0, 0])\n",
    "\n",
    "    for i in range(1, len(file)):\n",
    "        prev_row = file.iloc[i - 1]\n",
    "        row = file.iloc[i]\n",
    "\n",
    "        reward_idx = 0 if prev_row['won'] else 1\n",
    "\n",
    "        # Common Transition\n",
    "        if (prev_row['choice1'] == 1 and prev_row['state'] == 2) or (prev_row['choice1'] == 2 and prev_row['state'] == 3):\n",
    "            # Same planet choice\n",
    "            if prev_row['choice1'] == row['choice1']:\n",
    "                com_same_planet[reward_idx] += 1\n",
    "                # Same alien choice\n",
    "                if prev_row['choice2'] == row['choice2']:\n",
    "                    com_same_alien[reward_idx] += 1\n",
    "        # Rare Transition\n",
    "        else:\n",
    "            # Same planet choice\n",
    "            if prev_row['choice1'] == row['choice1']:\n",
    "                rare_same_planet[reward_idx] += 1\n",
    "                # Same alien choice\n",
    "                if prev_row['choice2'] == row['choice2']:\n",
    "                    rare_same_alien[reward_idx] += 1\n",
    "\n",
    "    com_same_alien = com_same_alien / sum(com_same_planet)\n",
    "    com_same_planet = com_same_planet / sum(com_same_planet)\n",
    "    rare_same_alien = rare_same_alien / sum(rare_same_planet)\n",
    "    rare_same_planet = rare_same_planet / sum(rare_same_planet)\n",
    "    \n",
    "    return com_same_alien, com_same_planet, rare_same_alien, rare_same_planet"
   ]
  },
  {
   "cell_type": "code",
   "execution_count": 7,
   "metadata": {},
   "outputs": [
    {
     "data": {
      "image/png": "[encoded data removed]",
      "text/plain": [
       "<Figure size 720x432 with 1 Axes>"
      ]
     },
     "metadata": {
      "needs_background": "light"
     },
     "output_type": "display_data"
    }
   ],
   "source": [
    "com_same_alien, com_same_planet, rare_same_alien, rare_same_planet = get_analysis(file)\n",
    "\n",
    "labels = ['Reward', 'No Reward']\n",
    "x = np.arange(len(labels))\n",
    "\n",
    "width = 0.35\n",
    "\n",
    "fig, ax = plt.subplots(figsize=(10,6))\n",
    "\n",
    "rect1 = ax.bar(x - width / 2, com_same_planet, width, label='Common Transition')\n",
    "rect2 = ax.bar(x + width / 2, rare_same_planet, width, label='Rare Transition')\n",
    "rect3 = ax.bar(x - width / 2, com_same_alien, width, label='Common, Same Alien')\n",
    "rect4 = ax.bar(x + width / 2, rare_same_alien, width, label='Rare, Same Alien')\n",
    "\n",
    "def autolabel(rects):\n",
    "    \"\"\"Attach a text label above each bar in *rects*, displaying its height.\"\"\"\n",
    "    for rect in rects:\n",
    "        height = rect.get_height()\n",
    "        ax.annotate('%.3f' % (height * 100),\n",
    "                    xy=(rect.get_x() + rect.get_width() / 2, height),\n",
    "                    xytext=(0, 3),  # 3 points vertical offset\n",
    "                    textcoords=\"offset points\",\n",
    "                    ha='center', va='bottom')\n",
    "\n",
    "autolabel(rect1)\n",
    "autolabel(rect2)\n",
    "autolabel(rect3)\n",
    "autolabel(rect4)\n",
    "\n",
    "ax.set_xticks(x)\n",
    "ax.set_xticklabels(labels)\n",
    "ax.set_ylim([0, 0.7])\n",
    "ax.legend()\n",
    "plt.show()"
   ]
  },
  {
   "cell_type": "code",
   "execution_count": 9,
   "metadata": {},
   "outputs": [
    {
     "name": "stdout",
     "output_type": "stream",
     "text": [
      "SC00104_27-Sep-2018.txt\n"
     ]
    },
    {
     "ename": "TypeError",
     "evalue": "Cannot cast ufunc add output from dtype('float64') to dtype('int64') with casting rule 'same_kind'",
     "output_type": "error",
     "traceback": [
      "\u001b[0;31m---------------------------------------------------------------------------\u001b[0m",
      "\u001b[0;31mTypeError\u001b[0m                                 Traceback (most recent call last)",
      "\u001b[0;32m<ipython-input-9-da89ed7dce68>\u001b[0m in \u001b[0;36m<module>\u001b[0;34m\u001b[0m\n\u001b[1;32m     15\u001b[0m     \u001b[0mcsa\u001b[0m\u001b[0;34m,\u001b[0m \u001b[0mcsp\u001b[0m\u001b[0;34m,\u001b[0m \u001b[0mrsa\u001b[0m\u001b[0;34m,\u001b[0m \u001b[0mrsp\u001b[0m \u001b[0;34m=\u001b[0m \u001b[0mget_analysis\u001b[0m\u001b[0;34m(\u001b[0m\u001b[0mfile\u001b[0m\u001b[0;34m)\u001b[0m\u001b[0;34m\u001b[0m\u001b[0;34m\u001b[0m\u001b[0m\n\u001b[1;32m     16\u001b[0m \u001b[0;34m\u001b[0m\u001b[0m\n\u001b[0;32m---> 17\u001b[0;31m     \u001b[0mtotal_csa\u001b[0m \u001b[0;34m+=\u001b[0m \u001b[0mcsa\u001b[0m\u001b[0;34m\u001b[0m\u001b[0;34m\u001b[0m\u001b[0m\n\u001b[0m",
      "\u001b[0;31mTypeError\u001b[0m: Cannot cast ufunc add output from dtype('float64') to dtype('int64') with casting rule 'same_kind'"
     ]
    }
   ],
   "source": [
    "total_csa = np.array([0, 0])\n",
    "total_csp = np.array([0, 0])\n",
    "total_rsa = np.array([0, 0])\n",
    "total_rsp = np.array([0, 0])\n",
    "\n",
    "file_dir = os.listdir('Data')\n",
    "usecols = ['trial', 'choice1', 'state', 'choice2', 'won']\n",
    "for file_name in file_dir:\n",
    "    # Start analysis at row 10\n",
    "    print(file_name)\n",
    "    file = pd.read_csv('Data/' + file_name, sep='\\t', index_col=0, usecols=usecols, skiprows=lambda x: x in range(3, 11))\n",
    "    file = file[file['choice1'] != 0] # Exclude trials that choice1 was missed\n",
    "    file = file[file['choice2'] != 0] # Exclude trials that choice2 was missed\n",
    "    \n",
    "    csa, csp, rsa, rsp = get_analysis(file)\n",
    "    \n",
    "    total_csa += csa"
   ]
  },
  {
   "cell_type": "code",
   "execution_count": null,
   "metadata": {},
   "outputs": [],
   "source": []
  }
 ],
 "metadata": {
  "kernelspec": {
   "display_name": "Python 3",
   "language": "python",
   "name": "python3"
  },
  "language_info": {
   "codemirror_mode": {
    "name": "ipython",
    "version": 3
   },
   "file_extension": ".py",
   "mimetype": "text/x-python",
   "name": "python",
   "nbconvert_exporter": "python",
   "pygments_lexer": "ipython3",
   "version": "3.7.1"
  }
 },
 "nbformat": 4,
 "nbformat_minor": 2
}
